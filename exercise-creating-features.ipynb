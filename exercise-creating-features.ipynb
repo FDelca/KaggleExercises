{
 "cells": [
  {
   "cell_type": "markdown",
   "id": "e3eb3305",
   "metadata": {
    "papermill": {
     "duration": 0.011768,
     "end_time": "2022-06-14T13:44:50.119802",
     "exception": false,
     "start_time": "2022-06-14T13:44:50.108034",
     "status": "completed"
    },
    "tags": []
   },
   "source": [
    "**This notebook is an exercise in the [Feature Engineering](https://www.kaggle.com/learn/feature-engineering) course.  You can reference the tutorial at [this link](https://www.kaggle.com/ryanholbrook/creating-features).**\n",
    "\n",
    "---\n"
   ]
  },
  {
   "cell_type": "markdown",
   "id": "4cf9f460",
   "metadata": {
    "papermill": {
     "duration": 0.0068,
     "end_time": "2022-06-14T13:44:50.134172",
     "exception": false,
     "start_time": "2022-06-14T13:44:50.127372",
     "status": "completed"
    },
    "tags": []
   },
   "source": [
    "# Introduction #\n",
    "\n",
    "In this exercise you'll start developing the features you identified in Exercise 2 as having the most potential. As you work through this exercise, you might take a moment to look at the data documentation again and consider whether the features we're creating make sense from a real-world perspective, and whether there are any useful combinations that stand out to you.\n",
    "\n",
    "Run this cell to set everything up!"
   ]
  },
  {
   "cell_type": "code",
   "execution_count": 1,
   "id": "3a97056b",
   "metadata": {
    "execution": {
     "iopub.execute_input": "2022-06-14T13:44:50.150157Z",
     "iopub.status.busy": "2022-06-14T13:44:50.149557Z",
     "iopub.status.idle": "2022-06-14T13:44:51.776519Z",
     "shell.execute_reply": "2022-06-14T13:44:51.775150Z"
    },
    "papermill": {
     "duration": 1.638592,
     "end_time": "2022-06-14T13:44:51.779744",
     "exception": false,
     "start_time": "2022-06-14T13:44:50.141152",
     "status": "completed"
    },
    "tags": []
   },
   "outputs": [],
   "source": [
    "# Setup feedback system\n",
    "from learntools.core import binder\n",
    "binder.bind(globals())\n",
    "from learntools.feature_engineering_new.ex3 import *\n",
    "\n",
    "import numpy as np\n",
    "import pandas as pd\n",
    "from sklearn.model_selection import cross_val_score\n",
    "from xgboost import XGBRegressor\n",
    "\n",
    "\n",
    "def score_dataset(X, y, model=XGBRegressor()):\n",
    "    # Label encoding for categoricals\n",
    "    for colname in X.select_dtypes([\"category\", \"object\"]):\n",
    "        X[colname], _ = X[colname].factorize()\n",
    "    # Metric for Housing competition is RMSLE (Root Mean Squared Log Error)\n",
    "    score = cross_val_score(\n",
    "        model, X, y, cv=5, scoring=\"neg_mean_squared_log_error\",\n",
    "    )\n",
    "    score = -1 * score.mean()\n",
    "    score = np.sqrt(score)\n",
    "    return score\n",
    "\n",
    "\n",
    "# Prepare data\n",
    "df = pd.read_csv(\"../input/fe-course-data/ames.csv\")\n",
    "X = df.copy()\n",
    "y = X.pop(\"SalePrice\")"
   ]
  },
  {
   "cell_type": "markdown",
   "id": "319e598f",
   "metadata": {
    "papermill": {
     "duration": 0.007376,
     "end_time": "2022-06-14T13:44:51.794495",
     "exception": false,
     "start_time": "2022-06-14T13:44:51.787119",
     "status": "completed"
    },
    "tags": []
   },
   "source": [
    "-------------------------------------------------------------------------------\n",
    "\n",
    "Let's start with a few mathematical combinations. We'll focus on features describing areas -- having the same units (square-feet) makes it easy to combine them in sensible ways. Since we're using XGBoost (a tree-based model), we'll focus on ratios and sums.\n",
    "\n",
    "# 1) Create Mathematical Transforms\n",
    "\n",
    "Create the following features:\n",
    "\n",
    "- `LivLotRatio`: the ratio of `GrLivArea` to `LotArea`\n",
    "- `Spaciousness`: the sum of `FirstFlrSF` and `SecondFlrSF` divided by `TotRmsAbvGrd`\n",
    "- `TotalOutsideSF`: the sum of `WoodDeckSF`, `OpenPorchSF`, `EnclosedPorch`, `Threeseasonporch`, and `ScreenPorch`"
   ]
  },
  {
   "cell_type": "code",
   "execution_count": 2,
   "id": "e31892c9",
   "metadata": {
    "execution": {
     "iopub.execute_input": "2022-06-14T13:44:51.811931Z",
     "iopub.status.busy": "2022-06-14T13:44:51.810831Z",
     "iopub.status.idle": "2022-06-14T13:44:51.844248Z",
     "shell.execute_reply": "2022-06-14T13:44:51.843118Z"
    },
    "lines_to_next_cell": 0,
    "papermill": {
     "duration": 0.044928,
     "end_time": "2022-06-14T13:44:51.846662",
     "exception": false,
     "start_time": "2022-06-14T13:44:51.801734",
     "status": "completed"
    },
    "tags": []
   },
   "outputs": [
    {
     "data": {
      "application/javascript": [
       "parent.postMessage({\"jupyterEvent\": \"custom.exercise_interaction\", \"data\": {\"outcomeType\": 1, \"valueTowardsCompletion\": 0.2, \"interactionType\": 1, \"questionType\": 2, \"questionId\": \"1_Q1\", \"learnToolsVersion\": \"0.3.4\", \"failureMessage\": \"\", \"exceptionClass\": \"\", \"trace\": \"\"}}, \"*\")"
      ],
      "text/plain": [
       "<IPython.core.display.Javascript object>"
      ]
     },
     "metadata": {},
     "output_type": "display_data"
    },
    {
     "data": {
      "text/markdown": [
       "<span style=\"color:#33cc33\">Correct</span>"
      ],
      "text/plain": [
       "Correct"
      ]
     },
     "metadata": {},
     "output_type": "display_data"
    }
   ],
   "source": [
    "# YOUR CODE HERE\n",
    "X_1 = pd.DataFrame()  # dataframe to hold new features\n",
    "\n",
    "X_1[\"LivLotRatio\"] = df['GrLivArea'] / df['LotArea']\n",
    "X_1[\"Spaciousness\"] = df[['FirstFlrSF', 'SecondFlrSF']].sum(axis=1) / df['TotRmsAbvGrd']\n",
    "X_1[\"TotalOutsideSF\"] = df[['WoodDeckSF', 'OpenPorchSF', 'EnclosedPorch', 'Threeseasonporch','ScreenPorch']].sum(axis=1)\n",
    "\n",
    "\n",
    "# Check your answer\n",
    "q_1.check()"
   ]
  },
  {
   "cell_type": "code",
   "execution_count": 3,
   "id": "f358d4e3",
   "metadata": {
    "execution": {
     "iopub.execute_input": "2022-06-14T13:44:51.864051Z",
     "iopub.status.busy": "2022-06-14T13:44:51.863532Z",
     "iopub.status.idle": "2022-06-14T13:44:51.881806Z",
     "shell.execute_reply": "2022-06-14T13:44:51.880510Z"
    },
    "papermill": {
     "duration": 0.029736,
     "end_time": "2022-06-14T13:44:51.884185",
     "exception": false,
     "start_time": "2022-06-14T13:44:51.854449",
     "status": "completed"
    },
    "tags": []
   },
   "outputs": [
    {
     "data": {
      "text/html": [
       "<div>\n",
       "<style scoped>\n",
       "    .dataframe tbody tr th:only-of-type {\n",
       "        vertical-align: middle;\n",
       "    }\n",
       "\n",
       "    .dataframe tbody tr th {\n",
       "        vertical-align: top;\n",
       "    }\n",
       "\n",
       "    .dataframe thead th {\n",
       "        text-align: right;\n",
       "    }\n",
       "</style>\n",
       "<table border=\"1\" class=\"dataframe\">\n",
       "  <thead>\n",
       "    <tr style=\"text-align: right;\">\n",
       "      <th></th>\n",
       "      <th>LivLotRatio</th>\n",
       "      <th>Spaciousness</th>\n",
       "      <th>TotalOutsideSF</th>\n",
       "    </tr>\n",
       "  </thead>\n",
       "  <tbody>\n",
       "    <tr>\n",
       "      <th>0</th>\n",
       "      <td>0.052125</td>\n",
       "      <td>236.571429</td>\n",
       "      <td>272.0</td>\n",
       "    </tr>\n",
       "    <tr>\n",
       "      <th>1</th>\n",
       "      <td>0.077095</td>\n",
       "      <td>179.200000</td>\n",
       "      <td>260.0</td>\n",
       "    </tr>\n",
       "    <tr>\n",
       "      <th>2</th>\n",
       "      <td>0.093152</td>\n",
       "      <td>221.500000</td>\n",
       "      <td>429.0</td>\n",
       "    </tr>\n",
       "    <tr>\n",
       "      <th>3</th>\n",
       "      <td>0.189068</td>\n",
       "      <td>263.750000</td>\n",
       "      <td>0.0</td>\n",
       "    </tr>\n",
       "    <tr>\n",
       "      <th>4</th>\n",
       "      <td>0.117787</td>\n",
       "      <td>271.500000</td>\n",
       "      <td>246.0</td>\n",
       "    </tr>\n",
       "  </tbody>\n",
       "</table>\n",
       "</div>"
      ],
      "text/plain": [
       "   LivLotRatio  Spaciousness  TotalOutsideSF\n",
       "0     0.052125    236.571429           272.0\n",
       "1     0.077095    179.200000           260.0\n",
       "2     0.093152    221.500000           429.0\n",
       "3     0.189068    263.750000             0.0\n",
       "4     0.117787    271.500000           246.0"
      ]
     },
     "execution_count": 3,
     "metadata": {},
     "output_type": "execute_result"
    }
   ],
   "source": [
    "X_1.head(5)"
   ]
  },
  {
   "cell_type": "code",
   "execution_count": 4,
   "id": "44150d1b",
   "metadata": {
    "execution": {
     "iopub.execute_input": "2022-06-14T13:44:51.903240Z",
     "iopub.status.busy": "2022-06-14T13:44:51.901847Z",
     "iopub.status.idle": "2022-06-14T13:44:51.907436Z",
     "shell.execute_reply": "2022-06-14T13:44:51.906310Z"
    },
    "lines_to_next_cell": 0,
    "papermill": {
     "duration": 0.01754,
     "end_time": "2022-06-14T13:44:51.909849",
     "exception": false,
     "start_time": "2022-06-14T13:44:51.892309",
     "status": "completed"
    },
    "tags": []
   },
   "outputs": [],
   "source": [
    "# Lines below will give you a hint or solution code\n",
    "#q_1.hint()\n",
    "#q_1.solution()"
   ]
  },
  {
   "cell_type": "markdown",
   "id": "8828e59e",
   "metadata": {
    "papermill": {
     "duration": 0.007268,
     "end_time": "2022-06-14T13:44:51.924931",
     "exception": false,
     "start_time": "2022-06-14T13:44:51.917663",
     "status": "completed"
    },
    "tags": []
   },
   "source": [
    "-------------------------------------------------------------------------------\n",
    "\n",
    "If you've discovered an interaction effect between a numeric feature and a categorical feature, you might want to model it explicitly using a one-hot encoding, like so:\n",
    "\n",
    "```\n",
    "# One-hot encode Categorical feature, adding a column prefix \"Cat\"\n",
    "X_new = pd.get_dummies(df.Categorical, prefix=\"Cat\")\n",
    "\n",
    "# Multiply row-by-row\n",
    "X_new = X_new.mul(df.Continuous, axis=0)\n",
    "\n",
    "# Join the new features to the feature set\n",
    "X = X.join(X_new)\n",
    "```\n",
    "\n",
    "# 2) Interaction with a Categorical\n",
    "\n",
    "We discovered an interaction between `BldgType` and `GrLivArea` in Exercise 2. Now create their interaction features."
   ]
  },
  {
   "cell_type": "code",
   "execution_count": 5,
   "id": "bb498a13",
   "metadata": {
    "execution": {
     "iopub.execute_input": "2022-06-14T13:44:51.942201Z",
     "iopub.status.busy": "2022-06-14T13:44:51.941618Z",
     "iopub.status.idle": "2022-06-14T13:44:51.959151Z",
     "shell.execute_reply": "2022-06-14T13:44:51.958154Z"
    },
    "lines_to_next_cell": 0,
    "papermill": {
     "duration": 0.028582,
     "end_time": "2022-06-14T13:44:51.961327",
     "exception": false,
     "start_time": "2022-06-14T13:44:51.932745",
     "status": "completed"
    },
    "tags": []
   },
   "outputs": [
    {
     "data": {
      "application/javascript": [
       "parent.postMessage({\"jupyterEvent\": \"custom.exercise_interaction\", \"data\": {\"outcomeType\": 1, \"valueTowardsCompletion\": 0.2, \"interactionType\": 1, \"questionType\": 2, \"questionId\": \"2_Q2\", \"learnToolsVersion\": \"0.3.4\", \"failureMessage\": \"\", \"exceptionClass\": \"\", \"trace\": \"\"}}, \"*\")"
      ],
      "text/plain": [
       "<IPython.core.display.Javascript object>"
      ]
     },
     "metadata": {},
     "output_type": "display_data"
    },
    {
     "data": {
      "text/markdown": [
       "<span style=\"color:#33cc33\">Correct</span>"
      ],
      "text/plain": [
       "Correct"
      ]
     },
     "metadata": {},
     "output_type": "display_data"
    }
   ],
   "source": [
    "# YOUR CODE HERE\n",
    "# One-hot encode BldgType. Use `prefix=\"Bldg\"` in `get_dummies`\n",
    "X_2 = pd.get_dummies(df['BldgType'], prefix='Bldg')\n",
    "# Multiply\n",
    "X_2 = X_2.mul(df.GrLivArea, axis=0)\n",
    "\n",
    "\n",
    "# Check your answer\n",
    "q_2.check()"
   ]
  },
  {
   "cell_type": "code",
   "execution_count": 6,
   "id": "d1ef9ef5",
   "metadata": {
    "execution": {
     "iopub.execute_input": "2022-06-14T13:44:51.980033Z",
     "iopub.status.busy": "2022-06-14T13:44:51.979546Z",
     "iopub.status.idle": "2022-06-14T13:44:51.984146Z",
     "shell.execute_reply": "2022-06-14T13:44:51.982881Z"
    },
    "lines_to_next_cell": 0,
    "papermill": {
     "duration": 0.016718,
     "end_time": "2022-06-14T13:44:51.986127",
     "exception": false,
     "start_time": "2022-06-14T13:44:51.969409",
     "status": "completed"
    },
    "tags": []
   },
   "outputs": [],
   "source": [
    "# Lines below will give you a hint or solution code\n",
    "#q_2.hint()\n",
    "#q_2.solution()"
   ]
  },
  {
   "cell_type": "markdown",
   "id": "249b87ca",
   "metadata": {
    "lines_to_next_cell": 0,
    "papermill": {
     "duration": 0.007678,
     "end_time": "2022-06-14T13:44:52.001939",
     "exception": false,
     "start_time": "2022-06-14T13:44:51.994261",
     "status": "completed"
    },
    "tags": []
   },
   "source": [
    "# 3) Count Feature\n",
    "\n",
    "Let's try creating a feature that describes how many kinds of outdoor areas a dwelling has. Create a feature `PorchTypes` that counts how many of the following are greater than 0.0:\n",
    "\n",
    "```\n",
    "WoodDeckSF\n",
    "OpenPorchSF\n",
    "EnclosedPorch\n",
    "Threeseasonporch\n",
    "ScreenPorch\n",
    "```"
   ]
  },
  {
   "cell_type": "code",
   "execution_count": 7,
   "id": "2325daad",
   "metadata": {
    "execution": {
     "iopub.execute_input": "2022-06-14T13:44:52.021076Z",
     "iopub.status.busy": "2022-06-14T13:44:52.020134Z",
     "iopub.status.idle": "2022-06-14T13:44:52.038820Z",
     "shell.execute_reply": "2022-06-14T13:44:52.037821Z"
    },
    "lines_to_next_cell": 0,
    "papermill": {
     "duration": 0.030612,
     "end_time": "2022-06-14T13:44:52.040864",
     "exception": false,
     "start_time": "2022-06-14T13:44:52.010252",
     "status": "completed"
    },
    "tags": []
   },
   "outputs": [
    {
     "data": {
      "application/javascript": [
       "parent.postMessage({\"jupyterEvent\": \"custom.exercise_interaction\", \"data\": {\"outcomeType\": 1, \"valueTowardsCompletion\": 0.2, \"interactionType\": 1, \"questionType\": 2, \"questionId\": \"3_Q3\", \"learnToolsVersion\": \"0.3.4\", \"failureMessage\": \"\", \"exceptionClass\": \"\", \"trace\": \"\"}}, \"*\")"
      ],
      "text/plain": [
       "<IPython.core.display.Javascript object>"
      ]
     },
     "metadata": {},
     "output_type": "display_data"
    },
    {
     "data": {
      "text/markdown": [
       "<span style=\"color:#33cc33\">Correct</span>"
      ],
      "text/plain": [
       "Correct"
      ]
     },
     "metadata": {},
     "output_type": "display_data"
    }
   ],
   "source": [
    "X_3 = pd.DataFrame()\n",
    "\n",
    "# YOUR CODE HERE\n",
    "feats_ = ['WoodDeckSF','OpenPorchSF', 'EnclosedPorch', 'Threeseasonporch','ScreenPorch']\n",
    "X_3['PorchTypes'] = df[feats_].gt(0).sum(axis=1)\n",
    "\n",
    "\n",
    "# Check your answer\n",
    "q_3.check()"
   ]
  },
  {
   "cell_type": "code",
   "execution_count": 8,
   "id": "c0a2dd97",
   "metadata": {
    "execution": {
     "iopub.execute_input": "2022-06-14T13:44:52.059433Z",
     "iopub.status.busy": "2022-06-14T13:44:52.058548Z",
     "iopub.status.idle": "2022-06-14T13:44:52.072381Z",
     "shell.execute_reply": "2022-06-14T13:44:52.071426Z"
    },
    "papermill": {
     "duration": 0.026114,
     "end_time": "2022-06-14T13:44:52.074926",
     "exception": false,
     "start_time": "2022-06-14T13:44:52.048812",
     "status": "completed"
    },
    "tags": []
   },
   "outputs": [
    {
     "data": {
      "text/html": [
       "<div>\n",
       "<style scoped>\n",
       "    .dataframe tbody tr th:only-of-type {\n",
       "        vertical-align: middle;\n",
       "    }\n",
       "\n",
       "    .dataframe tbody tr th {\n",
       "        vertical-align: top;\n",
       "    }\n",
       "\n",
       "    .dataframe thead th {\n",
       "        text-align: right;\n",
       "    }\n",
       "</style>\n",
       "<table border=\"1\" class=\"dataframe\">\n",
       "  <thead>\n",
       "    <tr style=\"text-align: right;\">\n",
       "      <th></th>\n",
       "      <th>PorchTypes</th>\n",
       "    </tr>\n",
       "  </thead>\n",
       "  <tbody>\n",
       "    <tr>\n",
       "      <th>0</th>\n",
       "      <td>2</td>\n",
       "    </tr>\n",
       "    <tr>\n",
       "      <th>1</th>\n",
       "      <td>2</td>\n",
       "    </tr>\n",
       "    <tr>\n",
       "      <th>2</th>\n",
       "      <td>2</td>\n",
       "    </tr>\n",
       "    <tr>\n",
       "      <th>3</th>\n",
       "      <td>0</td>\n",
       "    </tr>\n",
       "    <tr>\n",
       "      <th>4</th>\n",
       "      <td>2</td>\n",
       "    </tr>\n",
       "    <tr>\n",
       "      <th>...</th>\n",
       "      <td>...</td>\n",
       "    </tr>\n",
       "    <tr>\n",
       "      <th>2925</th>\n",
       "      <td>1</td>\n",
       "    </tr>\n",
       "    <tr>\n",
       "      <th>2926</th>\n",
       "      <td>1</td>\n",
       "    </tr>\n",
       "    <tr>\n",
       "      <th>2927</th>\n",
       "      <td>2</td>\n",
       "    </tr>\n",
       "    <tr>\n",
       "      <th>2928</th>\n",
       "      <td>2</td>\n",
       "    </tr>\n",
       "    <tr>\n",
       "      <th>2929</th>\n",
       "      <td>2</td>\n",
       "    </tr>\n",
       "  </tbody>\n",
       "</table>\n",
       "<p>2930 rows × 1 columns</p>\n",
       "</div>"
      ],
      "text/plain": [
       "      PorchTypes\n",
       "0              2\n",
       "1              2\n",
       "2              2\n",
       "3              0\n",
       "4              2\n",
       "...          ...\n",
       "2925           1\n",
       "2926           1\n",
       "2927           2\n",
       "2928           2\n",
       "2929           2\n",
       "\n",
       "[2930 rows x 1 columns]"
      ]
     },
     "execution_count": 8,
     "metadata": {},
     "output_type": "execute_result"
    }
   ],
   "source": [
    "X_3"
   ]
  },
  {
   "cell_type": "code",
   "execution_count": 9,
   "id": "3827ffb4",
   "metadata": {
    "execution": {
     "iopub.execute_input": "2022-06-14T13:44:52.096927Z",
     "iopub.status.busy": "2022-06-14T13:44:52.095441Z",
     "iopub.status.idle": "2022-06-14T13:44:52.100891Z",
     "shell.execute_reply": "2022-06-14T13:44:52.099801Z"
    },
    "lines_to_next_cell": 0,
    "papermill": {
     "duration": 0.019012,
     "end_time": "2022-06-14T13:44:52.103495",
     "exception": false,
     "start_time": "2022-06-14T13:44:52.084483",
     "status": "completed"
    },
    "tags": []
   },
   "outputs": [],
   "source": [
    "# Lines below will give you a hint or solution code\n",
    "#q_3.hint()\n",
    "#q_3.solution()"
   ]
  },
  {
   "cell_type": "markdown",
   "id": "7660784d",
   "metadata": {
    "papermill": {
     "duration": 0.008344,
     "end_time": "2022-06-14T13:44:52.121007",
     "exception": false,
     "start_time": "2022-06-14T13:44:52.112663",
     "status": "completed"
    },
    "tags": []
   },
   "source": [
    "# 4) Break Down a Categorical Feature\n",
    "\n",
    "`MSSubClass` describes the type of a dwelling:"
   ]
  },
  {
   "cell_type": "code",
   "execution_count": 10,
   "id": "c1584ed7",
   "metadata": {
    "execution": {
     "iopub.execute_input": "2022-06-14T13:44:52.141206Z",
     "iopub.status.busy": "2022-06-14T13:44:52.140132Z",
     "iopub.status.idle": "2022-06-14T13:44:52.147972Z",
     "shell.execute_reply": "2022-06-14T13:44:52.147138Z"
    },
    "papermill": {
     "duration": 0.020226,
     "end_time": "2022-06-14T13:44:52.150056",
     "exception": false,
     "start_time": "2022-06-14T13:44:52.129830",
     "status": "completed"
    },
    "tags": []
   },
   "outputs": [
    {
     "data": {
      "text/plain": [
       "array(['One_Story_1946_and_Newer_All_Styles', 'Two_Story_1946_and_Newer',\n",
       "       'One_Story_PUD_1946_and_Newer',\n",
       "       'One_and_Half_Story_Finished_All_Ages', 'Split_Foyer',\n",
       "       'Two_Story_PUD_1946_and_Newer', 'Split_or_Multilevel',\n",
       "       'One_Story_1945_and_Older', 'Duplex_All_Styles_and_Ages',\n",
       "       'Two_Family_conversion_All_Styles_and_Ages',\n",
       "       'One_and_Half_Story_Unfinished_All_Ages',\n",
       "       'Two_Story_1945_and_Older', 'Two_and_Half_Story_All_Ages',\n",
       "       'One_Story_with_Finished_Attic_All_Ages',\n",
       "       'PUD_Multilevel_Split_Level_Foyer',\n",
       "       'One_and_Half_Story_PUD_All_Ages'], dtype=object)"
      ]
     },
     "execution_count": 10,
     "metadata": {},
     "output_type": "execute_result"
    }
   ],
   "source": [
    "df.MSSubClass.unique()"
   ]
  },
  {
   "cell_type": "markdown",
   "id": "68bad0df",
   "metadata": {
    "papermill": {
     "duration": 0.008268,
     "end_time": "2022-06-14T13:44:52.167105",
     "exception": false,
     "start_time": "2022-06-14T13:44:52.158837",
     "status": "completed"
    },
    "tags": []
   },
   "source": [
    "You can see that there is a more general categorization described (roughly) by the first word of each category. Create a feature containing only these first words by splitting `MSSubClass` at the first underscore `_`. (Hint: In the `split` method use an argument `n=1`.)"
   ]
  },
  {
   "cell_type": "code",
   "execution_count": 11,
   "id": "934623c4",
   "metadata": {
    "execution": {
     "iopub.execute_input": "2022-06-14T13:44:52.187159Z",
     "iopub.status.busy": "2022-06-14T13:44:52.185652Z",
     "iopub.status.idle": "2022-06-14T13:44:52.219395Z",
     "shell.execute_reply": "2022-06-14T13:44:52.218241Z"
    },
    "lines_to_next_cell": 0,
    "papermill": {
     "duration": 0.046031,
     "end_time": "2022-06-14T13:44:52.221652",
     "exception": false,
     "start_time": "2022-06-14T13:44:52.175621",
     "status": "completed"
    },
    "tags": []
   },
   "outputs": [
    {
     "data": {
      "application/javascript": [
       "parent.postMessage({\"jupyterEvent\": \"custom.exercise_interaction\", \"data\": {\"outcomeType\": 1, \"valueTowardsCompletion\": 0.2, \"interactionType\": 1, \"questionType\": 2, \"questionId\": \"4_Q4\", \"learnToolsVersion\": \"0.3.4\", \"failureMessage\": \"\", \"exceptionClass\": \"\", \"trace\": \"\"}}, \"*\")"
      ],
      "text/plain": [
       "<IPython.core.display.Javascript object>"
      ]
     },
     "metadata": {},
     "output_type": "display_data"
    },
    {
     "data": {
      "text/markdown": [
       "<span style=\"color:#33cc33\">Correct</span>"
      ],
      "text/plain": [
       "Correct"
      ]
     },
     "metadata": {},
     "output_type": "display_data"
    }
   ],
   "source": [
    "X_4 = pd.DataFrame()\n",
    "\n",
    "# YOUR CODE HERE\n",
    "X_4[\"MSClass\"] = df.MSSubClass.str.split('_', n=1, expand=True)[0]\n",
    "\n",
    "# Check your answer\n",
    "q_4.check()"
   ]
  },
  {
   "cell_type": "code",
   "execution_count": 12,
   "id": "c1d808a4",
   "metadata": {
    "execution": {
     "iopub.execute_input": "2022-06-14T13:44:52.241248Z",
     "iopub.status.busy": "2022-06-14T13:44:52.240232Z",
     "iopub.status.idle": "2022-06-14T13:44:52.245537Z",
     "shell.execute_reply": "2022-06-14T13:44:52.244475Z"
    },
    "lines_to_next_cell": 0,
    "papermill": {
     "duration": 0.017545,
     "end_time": "2022-06-14T13:44:52.247823",
     "exception": false,
     "start_time": "2022-06-14T13:44:52.230278",
     "status": "completed"
    },
    "tags": []
   },
   "outputs": [],
   "source": [
    "# Lines below will give you a hint or solution code\n",
    "#q_4.hint()\n",
    "#q_4.solution()"
   ]
  },
  {
   "cell_type": "markdown",
   "id": "c4e202fa",
   "metadata": {
    "papermill": {
     "duration": 0.008471,
     "end_time": "2022-06-14T13:44:52.265095",
     "exception": false,
     "start_time": "2022-06-14T13:44:52.256624",
     "status": "completed"
    },
    "tags": []
   },
   "source": [
    "# 5) Use a Grouped Transform\n",
    "\n",
    "The value of a home often depends on how it compares to typical homes in its neighborhood. Create a feature `MedNhbdArea` that describes the *median* of `GrLivArea` grouped on `Neighborhood`."
   ]
  },
  {
   "cell_type": "code",
   "execution_count": 13,
   "id": "87de043d",
   "metadata": {
    "execution": {
     "iopub.execute_input": "2022-06-14T13:44:52.284885Z",
     "iopub.status.busy": "2022-06-14T13:44:52.283906Z",
     "iopub.status.idle": "2022-06-14T13:44:52.304975Z",
     "shell.execute_reply": "2022-06-14T13:44:52.303798Z"
    },
    "lines_to_next_cell": 0,
    "papermill": {
     "duration": 0.033686,
     "end_time": "2022-06-14T13:44:52.307344",
     "exception": false,
     "start_time": "2022-06-14T13:44:52.273658",
     "status": "completed"
    },
    "tags": []
   },
   "outputs": [
    {
     "data": {
      "application/javascript": [
       "parent.postMessage({\"jupyterEvent\": \"custom.exercise_interaction\", \"data\": {\"outcomeType\": 1, \"valueTowardsCompletion\": 0.2, \"interactionType\": 1, \"questionType\": 2, \"questionId\": \"5_Q5\", \"learnToolsVersion\": \"0.3.4\", \"failureMessage\": \"\", \"exceptionClass\": \"\", \"trace\": \"\"}}, \"*\")"
      ],
      "text/plain": [
       "<IPython.core.display.Javascript object>"
      ]
     },
     "metadata": {},
     "output_type": "display_data"
    },
    {
     "data": {
      "text/markdown": [
       "<span style=\"color:#33cc33\">Correct</span>"
      ],
      "text/plain": [
       "Correct"
      ]
     },
     "metadata": {},
     "output_type": "display_data"
    }
   ],
   "source": [
    "X_5 = pd.DataFrame()\n",
    "\n",
    "# YOUR CODE HERE\n",
    "X_5[\"MedNhbdArea\"] = df.groupby(['Neighborhood'])['GrLivArea'].transform('median')\n",
    "\n",
    "# Check your answer\n",
    "q_5.check()"
   ]
  },
  {
   "cell_type": "code",
   "execution_count": 14,
   "id": "d380f2a1",
   "metadata": {
    "execution": {
     "iopub.execute_input": "2022-06-14T13:44:52.328268Z",
     "iopub.status.busy": "2022-06-14T13:44:52.327748Z",
     "iopub.status.idle": "2022-06-14T13:44:52.332406Z",
     "shell.execute_reply": "2022-06-14T13:44:52.331288Z"
    },
    "lines_to_next_cell": 0,
    "papermill": {
     "duration": 0.018036,
     "end_time": "2022-06-14T13:44:52.334545",
     "exception": false,
     "start_time": "2022-06-14T13:44:52.316509",
     "status": "completed"
    },
    "tags": []
   },
   "outputs": [],
   "source": [
    "# Lines below will give you a hint or solution code\n",
    "#q_5.hint()\n",
    "#q_5.solution()"
   ]
  },
  {
   "cell_type": "markdown",
   "id": "4bec8140",
   "metadata": {
    "papermill": {
     "duration": 0.008841,
     "end_time": "2022-06-14T13:44:52.352849",
     "exception": false,
     "start_time": "2022-06-14T13:44:52.344008",
     "status": "completed"
    },
    "tags": []
   },
   "source": [
    "Now you've made your first new feature set! If you like, you can run the cell below to score the model with all of your new features added:"
   ]
  },
  {
   "cell_type": "code",
   "execution_count": 15,
   "id": "c2c61077",
   "metadata": {
    "execution": {
     "iopub.execute_input": "2022-06-14T13:44:52.373736Z",
     "iopub.status.busy": "2022-06-14T13:44:52.372445Z",
     "iopub.status.idle": "2022-06-14T13:44:58.096526Z",
     "shell.execute_reply": "2022-06-14T13:44:58.095595Z"
    },
    "papermill": {
     "duration": 5.737439,
     "end_time": "2022-06-14T13:44:58.099344",
     "exception": false,
     "start_time": "2022-06-14T13:44:52.361905",
     "status": "completed"
    },
    "tags": []
   },
   "outputs": [
    {
     "data": {
      "text/plain": [
       "0.13847331710099203"
      ]
     },
     "execution_count": 15,
     "metadata": {},
     "output_type": "execute_result"
    }
   ],
   "source": [
    "X_new = X.join([X_1, X_2, X_3, X_4, X_5])\n",
    "score_dataset(X_new, y)"
   ]
  },
  {
   "cell_type": "markdown",
   "id": "e24b1fee",
   "metadata": {
    "papermill": {
     "duration": 0.009039,
     "end_time": "2022-06-14T13:44:58.119162",
     "exception": false,
     "start_time": "2022-06-14T13:44:58.110123",
     "status": "completed"
    },
    "tags": []
   },
   "source": [
    "# Keep Going #\n",
    "\n",
    "[**Untangle spatial relationships**](https://www.kaggle.com/ryanholbrook/clustering-with-k-means) by adding cluster labels to your dataset."
   ]
  },
  {
   "cell_type": "markdown",
   "id": "71cb5176",
   "metadata": {
    "papermill": {
     "duration": 0.008526,
     "end_time": "2022-06-14T13:44:58.136849",
     "exception": false,
     "start_time": "2022-06-14T13:44:58.128323",
     "status": "completed"
    },
    "tags": []
   },
   "source": [
    "---\n",
    "\n",
    "\n",
    "\n",
    "\n",
    "*Have questions or comments? Visit the [course discussion forum](https://www.kaggle.com/learn/feature-engineering/discussion) to chat with other learners.*"
   ]
  }
 ],
 "metadata": {
  "kernelspec": {
   "display_name": "Python 3",
   "language": "python",
   "name": "python3"
  },
  "language_info": {
   "codemirror_mode": {
    "name": "ipython",
    "version": 3
   },
   "file_extension": ".py",
   "mimetype": "text/x-python",
   "name": "python",
   "nbconvert_exporter": "python",
   "pygments_lexer": "ipython3",
   "version": "3.7.12"
  },
  "papermill": {
   "default_parameters": {},
   "duration": 20.11866,
   "end_time": "2022-06-14T13:44:59.169310",
   "environment_variables": {},
   "exception": null,
   "input_path": "__notebook__.ipynb",
   "output_path": "__notebook__.ipynb",
   "parameters": {},
   "start_time": "2022-06-14T13:44:39.050650",
   "version": "2.3.4"
  }
 },
 "nbformat": 4,
 "nbformat_minor": 5
}
