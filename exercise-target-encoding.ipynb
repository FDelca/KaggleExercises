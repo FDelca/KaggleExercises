{
 "cells": [
  {
   "cell_type": "markdown",
   "id": "7e8392ca",
   "metadata": {
    "papermill": {
     "duration": 0.008533,
     "end_time": "2022-06-14T17:54:27.060412",
     "exception": false,
     "start_time": "2022-06-14T17:54:27.051879",
     "status": "completed"
    },
    "tags": []
   },
   "source": [
    "**This notebook is an exercise in the [Feature Engineering](https://www.kaggle.com/learn/feature-engineering) course.  You can reference the tutorial at [this link](https://www.kaggle.com/ryanholbrook/target-encoding).**\n",
    "\n",
    "---\n"
   ]
  },
  {
   "cell_type": "markdown",
   "id": "9a735bf2",
   "metadata": {
    "papermill": {
     "duration": 0.004661,
     "end_time": "2022-06-14T17:54:27.070482",
     "exception": false,
     "start_time": "2022-06-14T17:54:27.065821",
     "status": "completed"
    },
    "tags": []
   },
   "source": [
    "# Introduction #\n",
    "\n",
    "In this exercise, you'll apply target encoding to features in the [*Ames*](https://www.kaggle.com/c/house-prices-advanced-regression-techniques/data) dataset.\n",
    "\n",
    "Run this cell to set everything up!"
   ]
  },
  {
   "cell_type": "code",
   "execution_count": 1,
   "id": "39020f6c",
   "metadata": {
    "execution": {
     "iopub.execute_input": "2022-06-14T17:54:27.082523Z",
     "iopub.status.busy": "2022-06-14T17:54:27.081985Z",
     "iopub.status.idle": "2022-06-14T17:54:28.926437Z",
     "shell.execute_reply": "2022-06-14T17:54:28.925273Z"
    },
    "papermill": {
     "duration": 1.853457,
     "end_time": "2022-06-14T17:54:28.928920",
     "exception": false,
     "start_time": "2022-06-14T17:54:27.075463",
     "status": "completed"
    },
    "tags": []
   },
   "outputs": [],
   "source": [
    "# Setup feedback system\n",
    "from learntools.core import binder\n",
    "binder.bind(globals())\n",
    "from learntools.feature_engineering_new.ex6 import *\n",
    "\n",
    "import matplotlib.pyplot as plt\n",
    "import numpy as np\n",
    "import pandas as pd\n",
    "import seaborn as sns\n",
    "import warnings\n",
    "from category_encoders import MEstimateEncoder\n",
    "from sklearn.model_selection import cross_val_score\n",
    "from xgboost import XGBRegressor\n",
    "\n",
    "# Set Matplotlib defaults\n",
    "plt.style.use(\"seaborn-whitegrid\")\n",
    "plt.rc(\"figure\", autolayout=True)\n",
    "plt.rc(\n",
    "    \"axes\",\n",
    "    labelweight=\"bold\",\n",
    "    labelsize=\"large\",\n",
    "    titleweight=\"bold\",\n",
    "    titlesize=14,\n",
    "    titlepad=10,\n",
    ")\n",
    "warnings.filterwarnings('ignore')\n",
    "\n",
    "\n",
    "def score_dataset(X, y, model=XGBRegressor()):\n",
    "    # Label encoding for categoricals\n",
    "    for colname in X.select_dtypes([\"category\", \"object\"]):\n",
    "        X[colname], _ = X[colname].factorize()\n",
    "    # Metric for Housing competition is RMSLE (Root Mean Squared Log Error)\n",
    "    score = cross_val_score(\n",
    "        model, X, y, cv=5, scoring=\"neg_mean_squared_log_error\",\n",
    "    )\n",
    "    score = -1 * score.mean()\n",
    "    score = np.sqrt(score)\n",
    "    return score\n",
    "\n",
    "\n",
    "df = pd.read_csv(\"../input/fe-course-data/ames.csv\")"
   ]
  },
  {
   "cell_type": "markdown",
   "id": "7b6e8434",
   "metadata": {
    "papermill": {
     "duration": 0.004863,
     "end_time": "2022-06-14T17:54:28.939103",
     "exception": false,
     "start_time": "2022-06-14T17:54:28.934240",
     "status": "completed"
    },
    "tags": []
   },
   "source": [
    "-------------------------------------------------------------------------------\n",
    "\n",
    "First you'll need to choose which features you want to apply a target encoding to. Categorical features with a large number of categories are often good candidates. Run this cell to see how many categories each categorical feature in the *Ames* dataset has."
   ]
  },
  {
   "cell_type": "code",
   "execution_count": 2,
   "id": "fbd6a6b7",
   "metadata": {
    "execution": {
     "iopub.execute_input": "2022-06-14T17:54:28.951123Z",
     "iopub.status.busy": "2022-06-14T17:54:28.950695Z",
     "iopub.status.idle": "2022-06-14T17:54:28.984523Z",
     "shell.execute_reply": "2022-06-14T17:54:28.983533Z"
    },
    "papermill": {
     "duration": 0.042295,
     "end_time": "2022-06-14T17:54:28.986434",
     "exception": false,
     "start_time": "2022-06-14T17:54:28.944139",
     "status": "completed"
    },
    "tags": []
   },
   "outputs": [
    {
     "data": {
      "text/plain": [
       "MSSubClass       16\n",
       "MSZoning          7\n",
       "Street            2\n",
       "Alley             3\n",
       "LotShape          4\n",
       "LandContour       4\n",
       "Utilities         3\n",
       "LotConfig         5\n",
       "LandSlope         3\n",
       "Neighborhood     28\n",
       "Condition1        9\n",
       "Condition2        8\n",
       "BldgType          5\n",
       "HouseStyle        8\n",
       "OverallQual      10\n",
       "OverallCond       9\n",
       "RoofStyle         6\n",
       "RoofMatl          8\n",
       "Exterior1st      16\n",
       "Exterior2nd      17\n",
       "MasVnrType        5\n",
       "ExterQual         4\n",
       "ExterCond         5\n",
       "Foundation        6\n",
       "BsmtQual          6\n",
       "BsmtCond          6\n",
       "BsmtExposure      5\n",
       "BsmtFinType1      7\n",
       "BsmtFinType2      7\n",
       "Heating           6\n",
       "HeatingQC         5\n",
       "CentralAir        2\n",
       "Electrical        6\n",
       "KitchenQual       5\n",
       "Functional        8\n",
       "FireplaceQu       6\n",
       "GarageType        7\n",
       "GarageFinish      4\n",
       "GarageQual        6\n",
       "GarageCond        6\n",
       "PavedDrive        3\n",
       "PoolQC            5\n",
       "Fence             5\n",
       "MiscFeature       6\n",
       "SaleType         10\n",
       "SaleCondition     6\n",
       "dtype: int64"
      ]
     },
     "execution_count": 2,
     "metadata": {},
     "output_type": "execute_result"
    }
   ],
   "source": [
    "df.select_dtypes([\"object\"]).nunique()"
   ]
  },
  {
   "cell_type": "markdown",
   "id": "b4087534",
   "metadata": {
    "papermill": {
     "duration": 0.00531,
     "end_time": "2022-06-14T17:54:28.996987",
     "exception": false,
     "start_time": "2022-06-14T17:54:28.991677",
     "status": "completed"
    },
    "tags": []
   },
   "source": [
    "We talked about how the M-estimate encoding uses smoothing to improve estimates for rare categories. To see how many times a category occurs in the dataset, you can use the `value_counts` method. This cell shows the counts for `SaleType`, but you might want to consider others as well."
   ]
  },
  {
   "cell_type": "code",
   "execution_count": 3,
   "id": "997b3c71",
   "metadata": {
    "execution": {
     "iopub.execute_input": "2022-06-14T17:54:29.009496Z",
     "iopub.status.busy": "2022-06-14T17:54:29.009074Z",
     "iopub.status.idle": "2022-06-14T17:54:29.020914Z",
     "shell.execute_reply": "2022-06-14T17:54:29.019949Z"
    },
    "papermill": {
     "duration": 0.020627,
     "end_time": "2022-06-14T17:54:29.022978",
     "exception": false,
     "start_time": "2022-06-14T17:54:29.002351",
     "status": "completed"
    },
    "tags": []
   },
   "outputs": [
    {
     "data": {
      "text/plain": [
       "North_Ames                                 443\n",
       "College_Creek                              267\n",
       "Old_Town                                   239\n",
       "Edwards                                    194\n",
       "Somerset                                   182\n",
       "Northridge_Heights                         166\n",
       "Gilbert                                    165\n",
       "Sawyer                                     151\n",
       "Northwest_Ames                             131\n",
       "Sawyer_West                                125\n",
       "Mitchell                                   114\n",
       "Brookside                                  108\n",
       "Crawford                                   103\n",
       "Iowa_DOT_and_Rail_Road                      93\n",
       "Timberland                                  72\n",
       "Northridge                                  71\n",
       "Stone_Brook                                 51\n",
       "South_and_West_of_Iowa_State_University     48\n",
       "Clear_Creek                                 44\n",
       "Meadow_Village                              37\n",
       "Briardale                                   30\n",
       "Bloomington_Heights                         28\n",
       "Veenker                                     24\n",
       "Northpark_Villa                             23\n",
       "Blueste                                     10\n",
       "Greens                                       8\n",
       "Green_Hills                                  2\n",
       "Landmark                                     1\n",
       "Name: Neighborhood, dtype: int64"
      ]
     },
     "execution_count": 3,
     "metadata": {},
     "output_type": "execute_result"
    }
   ],
   "source": [
    "df[\"Neighborhood\"].value_counts()"
   ]
  },
  {
   "cell_type": "markdown",
   "id": "b9d8893f",
   "metadata": {
    "papermill": {
     "duration": 0.005119,
     "end_time": "2022-06-14T17:54:29.033667",
     "exception": false,
     "start_time": "2022-06-14T17:54:29.028548",
     "status": "completed"
    },
    "tags": []
   },
   "source": [
    "# 1) Choose Features for Encoding\n",
    "\n",
    "Which features did you identify for target encoding? After you've thought about your answer, run the next cell for some discussion."
   ]
  },
  {
   "cell_type": "code",
   "execution_count": 4,
   "id": "e6e1527e",
   "metadata": {
    "execution": {
     "iopub.execute_input": "2022-06-14T17:54:29.046017Z",
     "iopub.status.busy": "2022-06-14T17:54:29.045290Z",
     "iopub.status.idle": "2022-06-14T17:54:29.053066Z",
     "shell.execute_reply": "2022-06-14T17:54:29.052179Z"
    },
    "papermill": {
     "duration": 0.015946,
     "end_time": "2022-06-14T17:54:29.054827",
     "exception": false,
     "start_time": "2022-06-14T17:54:29.038881",
     "status": "completed"
    },
    "tags": []
   },
   "outputs": [
    {
     "data": {
      "application/javascript": [
       "parent.postMessage({\"jupyterEvent\": \"custom.exercise_interaction\", \"data\": {\"outcomeType\": 1, \"valueTowardsCompletion\": 0.3333333333333333, \"interactionType\": 1, \"questionType\": 4, \"questionId\": \"1_Q1\", \"learnToolsVersion\": \"0.3.4\", \"failureMessage\": \"\", \"exceptionClass\": \"\", \"trace\": \"\"}}, \"*\")"
      ],
      "text/plain": [
       "<IPython.core.display.Javascript object>"
      ]
     },
     "metadata": {},
     "output_type": "display_data"
    },
    {
     "data": {
      "text/markdown": [
       "<span style=\"color:#33cc33\">Correct:</span> \n",
       "\n",
       " The `Neighborhood` feature looks promising. It has the most categories of any feature, and several categories are rare. Others that could be worth considering are `SaleType`, `MSSubClass`, `Exterior1st`, `Exterior2nd`. In fact, almost any of the nominal features would be worth trying because of the prevalence of rare categories."
      ],
      "text/plain": [
       "Correct: \n",
       "\n",
       " The `Neighborhood` feature looks promising. It has the most categories of any feature, and several categories are rare. Others that could be worth considering are `SaleType`, `MSSubClass`, `Exterior1st`, `Exterior2nd`. In fact, almost any of the nominal features would be worth trying because of the prevalence of rare categories."
      ]
     },
     "metadata": {},
     "output_type": "display_data"
    }
   ],
   "source": [
    "# View the solution (Run this cell to receive credit!)\n",
    "q_1.check()"
   ]
  },
  {
   "cell_type": "markdown",
   "id": "12622682",
   "metadata": {
    "papermill": {
     "duration": 0.00512,
     "end_time": "2022-06-14T17:54:29.065418",
     "exception": false,
     "start_time": "2022-06-14T17:54:29.060298",
     "status": "completed"
    },
    "tags": []
   },
   "source": [
    "-------------------------------------------------------------------------------\n",
    "\n",
    "Now you'll apply a target encoding to your choice of feature. As we discussed in the tutorial, to avoid overfitting, we need to fit the encoder on data heldout from the training set. Run this cell to create the encoding and training splits:"
   ]
  },
  {
   "cell_type": "code",
   "execution_count": 5,
   "id": "d3da2c43",
   "metadata": {
    "execution": {
     "iopub.execute_input": "2022-06-14T17:54:29.077977Z",
     "iopub.status.busy": "2022-06-14T17:54:29.077518Z",
     "iopub.status.idle": "2022-06-14T17:54:29.091560Z",
     "shell.execute_reply": "2022-06-14T17:54:29.090784Z"
    },
    "lines_to_next_cell": 2,
    "papermill": {
     "duration": 0.022644,
     "end_time": "2022-06-14T17:54:29.093542",
     "exception": false,
     "start_time": "2022-06-14T17:54:29.070898",
     "status": "completed"
    },
    "tags": []
   },
   "outputs": [],
   "source": [
    "# Encoding split\n",
    "X_encode = df.sample(frac=0.20, random_state=0)\n",
    "y_encode = X_encode.pop(\"SalePrice\")\n",
    "\n",
    "# Training split\n",
    "X_pretrain = df.drop(X_encode.index)\n",
    "y_train = X_pretrain.pop(\"SalePrice\")"
   ]
  },
  {
   "cell_type": "markdown",
   "id": "2635b880",
   "metadata": {
    "papermill": {
     "duration": 0.00515,
     "end_time": "2022-06-14T17:54:29.104317",
     "exception": false,
     "start_time": "2022-06-14T17:54:29.099167",
     "status": "completed"
    },
    "tags": []
   },
   "source": [
    "# 2) Apply M-Estimate Encoding\n",
    "\n",
    "Apply a target encoding to your choice of categorical features. Also choose a value for the smoothing parameter `m` (any value is okay for a correct answer)."
   ]
  },
  {
   "cell_type": "code",
   "execution_count": 6,
   "id": "6c9ad558",
   "metadata": {
    "execution": {
     "iopub.execute_input": "2022-06-14T17:54:29.116973Z",
     "iopub.status.busy": "2022-06-14T17:54:29.116300Z",
     "iopub.status.idle": "2022-06-14T17:54:29.186879Z",
     "shell.execute_reply": "2022-06-14T17:54:29.185963Z"
    },
    "lines_to_next_cell": 0,
    "papermill": {
     "duration": 0.079024,
     "end_time": "2022-06-14T17:54:29.188704",
     "exception": false,
     "start_time": "2022-06-14T17:54:29.109680",
     "status": "completed"
    },
    "tags": []
   },
   "outputs": [
    {
     "data": {
      "application/javascript": [
       "parent.postMessage({\"jupyterEvent\": \"custom.exercise_interaction\", \"data\": {\"outcomeType\": 1, \"valueTowardsCompletion\": 0.3333333333333333, \"interactionType\": 1, \"questionType\": 2, \"questionId\": \"2_Q2\", \"learnToolsVersion\": \"0.3.4\", \"failureMessage\": \"\", \"exceptionClass\": \"\", \"trace\": \"\"}}, \"*\")"
      ],
      "text/plain": [
       "<IPython.core.display.Javascript object>"
      ]
     },
     "metadata": {},
     "output_type": "display_data"
    },
    {
     "data": {
      "text/markdown": [
       "<span style=\"color:#33cc33\">Correct</span>"
      ],
      "text/plain": [
       "Correct"
      ]
     },
     "metadata": {},
     "output_type": "display_data"
    }
   ],
   "source": [
    "# YOUR CODE HERE: Create the MEstimateEncoder\n",
    "# Choose a set of features to encode and a value for m\n",
    "from category_encoders import MEstimateEncoder\n",
    "encoder = MEstimateEncoder(cols=['Neighborhood'], m=2.0)\n",
    "\n",
    "\n",
    "# Fit the encoder on the encoding split\n",
    "encoder.fit(X_encode, y_encode)\n",
    "\n",
    "# Encode the training split\n",
    "X_train = encoder.transform(X_pretrain, y_train)\n",
    "\n",
    "\n",
    "# Check your answer\n",
    "q_2.check()"
   ]
  },
  {
   "cell_type": "code",
   "execution_count": 7,
   "id": "0d2e9991",
   "metadata": {
    "execution": {
     "iopub.execute_input": "2022-06-14T17:54:29.201695Z",
     "iopub.status.busy": "2022-06-14T17:54:29.201305Z",
     "iopub.status.idle": "2022-06-14T17:54:29.207428Z",
     "shell.execute_reply": "2022-06-14T17:54:29.206834Z"
    },
    "lines_to_next_cell": 0,
    "papermill": {
     "duration": 0.01483,
     "end_time": "2022-06-14T17:54:29.209042",
     "exception": false,
     "start_time": "2022-06-14T17:54:29.194212",
     "status": "completed"
    },
    "tags": []
   },
   "outputs": [
    {
     "data": {
      "application/javascript": [
       "parent.postMessage({\"jupyterEvent\": \"custom.exercise_interaction\", \"data\": {\"interactionType\": 3, \"questionType\": 2, \"questionId\": \"2_Q2\", \"learnToolsVersion\": \"0.3.4\", \"valueTowardsCompletion\": 0.0, \"failureMessage\": \"\", \"exceptionClass\": \"\", \"trace\": \"\", \"outcomeType\": 4}}, \"*\")"
      ],
      "text/plain": [
       "<IPython.core.display.Javascript object>"
      ]
     },
     "metadata": {},
     "output_type": "display_data"
    },
    {
     "data": {
      "text/markdown": [
       "<span style=\"color:#33cc99\">Solution:</span> \n",
       "```python\n",
       "\n",
       "encoder = MEstimateEncoder(\n",
       "    cols=[\"Neighborhood\"],\n",
       "    m=1.0,\n",
       ")\n",
       "\n",
       "\n",
       "# Fit the encoder on the encoding split\n",
       "encoder.fit(X_encode, y_encode)\n",
       "\n",
       "# Encode the training split\n",
       "X_train = encoder.transform(X_pretrain, y_train)\n",
       "\n",
       "```"
      ],
      "text/plain": [
       "Solution: \n",
       "```python\n",
       "\n",
       "encoder = MEstimateEncoder(\n",
       "    cols=[\"Neighborhood\"],\n",
       "    m=1.0,\n",
       ")\n",
       "\n",
       "\n",
       "# Fit the encoder on the encoding split\n",
       "encoder.fit(X_encode, y_encode)\n",
       "\n",
       "# Encode the training split\n",
       "X_train = encoder.transform(X_pretrain, y_train)\n",
       "\n",
       "```"
      ]
     },
     "metadata": {},
     "output_type": "display_data"
    }
   ],
   "source": [
    "# Lines below will give you a hint or solution code\n",
    "#q_2.hint()\n",
    "q_2.solution()"
   ]
  },
  {
   "cell_type": "markdown",
   "id": "913f2d74",
   "metadata": {
    "papermill": {
     "duration": 0.005471,
     "end_time": "2022-06-14T17:54:29.220354",
     "exception": false,
     "start_time": "2022-06-14T17:54:29.214883",
     "status": "completed"
    },
    "tags": []
   },
   "source": [
    "If you'd like to see how the encoded feature compares to the target, you can run this cell:"
   ]
  },
  {
   "cell_type": "code",
   "execution_count": 8,
   "id": "075a4099",
   "metadata": {
    "execution": {
     "iopub.execute_input": "2022-06-14T17:54:29.233543Z",
     "iopub.status.busy": "2022-06-14T17:54:29.232965Z",
     "iopub.status.idle": "2022-06-14T17:54:29.550820Z",
     "shell.execute_reply": "2022-06-14T17:54:29.549794Z"
    },
    "papermill": {
     "duration": 0.327132,
     "end_time": "2022-06-14T17:54:29.553099",
     "exception": false,
     "start_time": "2022-06-14T17:54:29.225967",
     "status": "completed"
    },
    "tags": []
   },
   "outputs": [
    {
     "data": {
      "image/png": "[encoded data removed]",
      "text/plain": [
       "<Figure size 540x360 with 1 Axes>"
      ]
     },
     "metadata": {},
     "output_type": "display_data"
    }
   ],
   "source": [
    "feature = encoder.cols\n",
    "\n",
    "plt.figure(dpi=90)\n",
    "ax = sns.distplot(y_train, kde=True, hist=False)\n",
    "ax = sns.distplot(X_train[feature], color='r', ax=ax, hist=True, kde=False, norm_hist=True)\n",
    "ax.set_xlabel(\"SalePrice\");"
   ]
  },
  {
   "cell_type": "markdown",
   "id": "407e2f10",
   "metadata": {
    "papermill": {
     "duration": 0.006278,
     "end_time": "2022-06-14T17:54:29.565873",
     "exception": false,
     "start_time": "2022-06-14T17:54:29.559595",
     "status": "completed"
    },
    "tags": []
   },
   "source": [
    "From the distribution plots, does it seem like the encoding is informative?\n",
    "\n",
    "And this cell will show you the score of the encoded set compared to the original set:"
   ]
  },
  {
   "cell_type": "code",
   "execution_count": 9,
   "id": "ca1a5327",
   "metadata": {
    "execution": {
     "iopub.execute_input": "2022-06-14T17:54:29.580928Z",
     "iopub.status.busy": "2022-06-14T17:54:29.580015Z",
     "iopub.status.idle": "2022-06-14T17:54:38.202421Z",
     "shell.execute_reply": "2022-06-14T17:54:38.201346Z"
    },
    "papermill": {
     "duration": 8.632623,
     "end_time": "2022-06-14T17:54:38.204946",
     "exception": false,
     "start_time": "2022-06-14T17:54:29.572323",
     "status": "completed"
    },
    "tags": []
   },
   "outputs": [
    {
     "name": "stdout",
     "output_type": "stream",
     "text": [
      "Baseline Score: 0.1428 RMSLE\n",
      "Score with Encoding: 0.1408 RMSLE\n"
     ]
    }
   ],
   "source": [
    "X = df.copy()\n",
    "y = X.pop(\"SalePrice\")\n",
    "score_base = score_dataset(X, y)\n",
    "score_new = score_dataset(X_train, y_train)\n",
    "\n",
    "print(f\"Baseline Score: {score_base:.4f} RMSLE\")\n",
    "print(f\"Score with Encoding: {score_new:.4f} RMSLE\")"
   ]
  },
  {
   "cell_type": "markdown",
   "id": "6a71af0e",
   "metadata": {
    "papermill": {
     "duration": 0.006084,
     "end_time": "2022-06-14T17:54:38.217590",
     "exception": false,
     "start_time": "2022-06-14T17:54:38.211506",
     "status": "completed"
    },
    "tags": []
   },
   "source": [
    "Do you think that target encoding was worthwhile in this case? Depending on which feature or features you chose, you may have ended up with a score significantly worse than the baseline. In that case, it's likely the extra information gained by the encoding couldn't make up for the loss of data used for the encoding."
   ]
  },
  {
   "cell_type": "markdown",
   "id": "3b02b373",
   "metadata": {
    "papermill": {
     "duration": 0.005969,
     "end_time": "2022-06-14T17:54:38.229755",
     "exception": false,
     "start_time": "2022-06-14T17:54:38.223786",
     "status": "completed"
    },
    "tags": []
   },
   "source": [
    "-------------------------------------------------------------------------------\n",
    "\n",
    "In this question, you'll explore the problem of overfitting with target encodings. This will illustrate this importance of training fitting target encoders on data held-out from the training set.\n",
    "\n",
    "So let's see what happens when we fit the encoder and the model on the *same* dataset. To emphasize how dramatic the overfitting can be, we'll mean-encode a feature that should have no relationship with `SalePrice`, a count: `0, 1, 2, 3, 4, 5, ...`."
   ]
  },
  {
   "cell_type": "code",
   "execution_count": 10,
   "id": "909af553",
   "metadata": {
    "execution": {
     "iopub.execute_input": "2022-06-14T17:54:38.243892Z",
     "iopub.status.busy": "2022-06-14T17:54:38.243490Z",
     "iopub.status.idle": "2022-06-14T17:54:42.490155Z",
     "shell.execute_reply": "2022-06-14T17:54:42.488690Z"
    },
    "papermill": {
     "duration": 4.256701,
     "end_time": "2022-06-14T17:54:42.492790",
     "exception": false,
     "start_time": "2022-06-14T17:54:38.236089",
     "status": "completed"
    },
    "tags": []
   },
   "outputs": [
    {
     "name": "stdout",
     "output_type": "stream",
     "text": [
      "Score: 0.0293 RMSLE\n"
     ]
    }
   ],
   "source": [
    "# Try experimenting with the smoothing parameter m\n",
    "# Try 0, 1, 5, 50\n",
    "m = 0\n",
    "\n",
    "X = df.copy()\n",
    "y = X.pop('SalePrice')\n",
    "\n",
    "# Create an uninformative feature\n",
    "X[\"Count\"] = range(len(X))\n",
    "X[\"Count\"][1] = 0  # actually need one duplicate value to circumvent error-checking in MEstimateEncoder\n",
    "\n",
    "# fit and transform on the same dataset\n",
    "encoder = MEstimateEncoder(cols=\"Count\", m=m)\n",
    "X = encoder.fit_transform(X, y)\n",
    "\n",
    "# Results\n",
    "score =  score_dataset(X, y)\n",
    "print(f\"Score: {score:.4f} RMSLE\")"
   ]
  },
  {
   "cell_type": "markdown",
   "id": "a1cce1c3",
   "metadata": {
    "papermill": {
     "duration": 0.006392,
     "end_time": "2022-06-14T17:54:42.505803",
     "exception": false,
     "start_time": "2022-06-14T17:54:42.499411",
     "status": "completed"
    },
    "tags": []
   },
   "source": [
    "Almost a perfect score!"
   ]
  },
  {
   "cell_type": "code",
   "execution_count": 11,
   "id": "d549d051",
   "metadata": {
    "execution": {
     "iopub.execute_input": "2022-06-14T17:54:42.520073Z",
     "iopub.status.busy": "2022-06-14T17:54:42.519440Z",
     "iopub.status.idle": "2022-06-14T17:54:42.864073Z",
     "shell.execute_reply": "2022-06-14T17:54:42.863039Z"
    },
    "papermill": {
     "duration": 0.353848,
     "end_time": "2022-06-14T17:54:42.865956",
     "exception": false,
     "start_time": "2022-06-14T17:54:42.512108",
     "status": "completed"
    },
    "tags": []
   },
   "outputs": [
    {
     "data": {
      "image/png": "[encoded data removed]",
      "text/plain": [
       "<Figure size 540x360 with 1 Axes>"
      ]
     },
     "metadata": {},
     "output_type": "display_data"
    }
   ],
   "source": [
    "plt.figure(dpi=90)\n",
    "ax = sns.distplot(y, kde=True, hist=False)\n",
    "ax = sns.distplot(X[\"Count\"], color='r', ax=ax, hist=True, kde=False, norm_hist=True)\n",
    "ax.set_xlabel(\"SalePrice\");"
   ]
  },
  {
   "cell_type": "markdown",
   "id": "06e4f16f",
   "metadata": {
    "papermill": {
     "duration": 0.006666,
     "end_time": "2022-06-14T17:54:42.879358",
     "exception": false,
     "start_time": "2022-06-14T17:54:42.872692",
     "status": "completed"
    },
    "tags": []
   },
   "source": [
    "And the distributions are almost exactly the same, too.\n",
    "\n",
    "# 3) Overfitting with Target Encoders\n",
    "\n",
    "Based on your understanding of how mean-encoding works, can you explain how XGBoost was able to get an almost a perfect fit after mean-encoding the count feature?"
   ]
  },
  {
   "cell_type": "code",
   "execution_count": 12,
   "id": "a40d8ba4",
   "metadata": {
    "execution": {
     "iopub.execute_input": "2022-06-14T17:54:42.895467Z",
     "iopub.status.busy": "2022-06-14T17:54:42.894830Z",
     "iopub.status.idle": "2022-06-14T17:54:42.901812Z",
     "shell.execute_reply": "2022-06-14T17:54:42.900724Z"
    },
    "lines_to_next_cell": 0,
    "papermill": {
     "duration": 0.017451,
     "end_time": "2022-06-14T17:54:42.903747",
     "exception": false,
     "start_time": "2022-06-14T17:54:42.886296",
     "status": "completed"
    },
    "tags": []
   },
   "outputs": [
    {
     "data": {
      "application/javascript": [
       "parent.postMessage({\"jupyterEvent\": \"custom.exercise_interaction\", \"data\": {\"outcomeType\": 1, \"valueTowardsCompletion\": 0.3333333333333333, \"interactionType\": 1, \"questionType\": 4, \"questionId\": \"3_Q3\", \"learnToolsVersion\": \"0.3.4\", \"failureMessage\": \"\", \"exceptionClass\": \"\", \"trace\": \"\"}}, \"*\")"
      ],
      "text/plain": [
       "<IPython.core.display.Javascript object>"
      ]
     },
     "metadata": {},
     "output_type": "display_data"
    },
    {
     "data": {
      "text/markdown": [
       "<span style=\"color:#33cc33\">Correct:</span> \n",
       "\n",
       "\n",
       "Since `Count` never has any duplicate values, the mean-encoded `Count` is essentially an exact copy of the target. In other words, mean-encoding turned a completely meaningless feature into a perfect feature.\n",
       "\n",
       "Now, the only reason this worked is because we trained XGBoost on the same set we used to train the encoder. If we had used a hold-out set instead, none of this \"fake\" encoding would have transferred to the training data.\n",
       "\n",
       "The lesson is that when using a target encoder it's very important to use separate data sets for training the encoder and training the model. Otherwise the results can be very disappointing!\n"
      ],
      "text/plain": [
       "Correct: \n",
       "\n",
       "\n",
       "Since `Count` never has any duplicate values, the mean-encoded `Count` is essentially an exact copy of the target. In other words, mean-encoding turned a completely meaningless feature into a perfect feature.\n",
       "\n",
       "Now, the only reason this worked is because we trained XGBoost on the same set we used to train the encoder. If we had used a hold-out set instead, none of this \"fake\" encoding would have transferred to the training data.\n",
       "\n",
       "The lesson is that when using a target encoder it's very important to use separate data sets for training the encoder and training the model. Otherwise the results can be very disappointing!"
      ]
     },
     "metadata": {},
     "output_type": "display_data"
    }
   ],
   "source": [
    "# View the solution (Run this cell to receive credit!)\n",
    "q_3.check()"
   ]
  },
  {
   "cell_type": "code",
   "execution_count": 13,
   "id": "9ba157b2",
   "metadata": {
    "execution": {
     "iopub.execute_input": "2022-06-14T17:54:42.920089Z",
     "iopub.status.busy": "2022-06-14T17:54:42.919014Z",
     "iopub.status.idle": "2022-06-14T17:54:42.926223Z",
     "shell.execute_reply": "2022-06-14T17:54:42.925300Z"
    },
    "papermill": {
     "duration": 0.017346,
     "end_time": "2022-06-14T17:54:42.928073",
     "exception": false,
     "start_time": "2022-06-14T17:54:42.910727",
     "status": "completed"
    },
    "tags": []
   },
   "outputs": [
    {
     "data": {
      "application/javascript": [
       "parent.postMessage({\"jupyterEvent\": \"custom.exercise_interaction\", \"data\": {\"interactionType\": 2, \"questionType\": 4, \"questionId\": \"3_Q3\", \"learnToolsVersion\": \"0.3.4\", \"valueTowardsCompletion\": 0.0, \"failureMessage\": \"\", \"exceptionClass\": \"\", \"trace\": \"\", \"outcomeType\": 4}}, \"*\")"
      ],
      "text/plain": [
       "<IPython.core.display.Javascript object>"
      ]
     },
     "metadata": {},
     "output_type": "display_data"
    },
    {
     "data": {
      "text/markdown": [
       "<span style=\"color:#3366cc\">Hint:</span> \n",
       "Suppose you had a dataset like:\n",
       "\n",
       "| Count | Target |\n",
       "|-------|--------|\n",
       "| 0     | 10     |\n",
       "| 1     | 5      |\n",
       "| 2     | 30     |\n",
       "| 3     | 22     |\n",
       "\n",
       "What is the mean value of Target when Count is equal to 0? It's 10, since 0 only occurs in the first row. So what would be the result of mean-encoding Count, knowing that Count never has any duplicate values?\n"
      ],
      "text/plain": [
       "Hint: \n",
       "Suppose you had a dataset like:\n",
       "\n",
       "| Count | Target |\n",
       "|-------|--------|\n",
       "| 0     | 10     |\n",
       "| 1     | 5      |\n",
       "| 2     | 30     |\n",
       "| 3     | 22     |\n",
       "\n",
       "What is the mean value of Target when Count is equal to 0? It's 10, since 0 only occurs in the first row. So what would be the result of mean-encoding Count, knowing that Count never has any duplicate values?"
      ]
     },
     "metadata": {},
     "output_type": "display_data"
    }
   ],
   "source": [
    "# Uncomment this if you'd like a hint before seeing the answer\n",
    "q_3.hint()"
   ]
  },
  {
   "cell_type": "markdown",
   "id": "1586fa29",
   "metadata": {
    "papermill": {
     "duration": 0.007073,
     "end_time": "2022-06-14T17:54:42.942956",
     "exception": false,
     "start_time": "2022-06-14T17:54:42.935883",
     "status": "completed"
    },
    "tags": []
   },
   "source": [
    "# The End #\n",
    "\n",
    "That's it for *Feature Engineering*! We hope you enjoyed your time with us.\n",
    "\n",
    "Now, are you ready to try out your new skills? Now would be a great time to join our [Housing Prices](https://www.kaggle.com/c/house-prices-advanced-regression-techniques) Getting Started competition. We've even prepared a [Bonus Lesson](https://www.kaggle.com/ryanholbrook/feature-engineering-for-house-prices) that collects all the work we've done together into a starter notebook.\n",
    "\n",
    "# References #\n",
    "Here are some great resources you might like to consult for more information. They all played a part in shaping this course:\n",
    "- *The Art of Feature Engineering*, a book by Pablo Duboue.\n",
    "- *An Empirical Analysis of Feature Engineering for Predictive Modeling*, an article by Jeff Heaton.\n",
    "- *Feature Engineering for Machine Learning*, a book by Alice Zheng and Amanda Casari. The tutorial on clustering was inspired by this excellent book.\n",
    "- *Feature Engineering and Selection*, a book by Max Kuhn and Kjell Johnson."
   ]
  },
  {
   "cell_type": "markdown",
   "id": "c8ef16a1",
   "metadata": {
    "papermill": {
     "duration": 0.006878,
     "end_time": "2022-06-14T17:54:42.957240",
     "exception": false,
     "start_time": "2022-06-14T17:54:42.950362",
     "status": "completed"
    },
    "tags": []
   },
   "source": [
    "---\n",
    "\n",
    "\n",
    "\n",
    "\n",
    "*Have questions or comments? Visit the [course discussion forum](https://www.kaggle.com/learn/feature-engineering/discussion) to chat with other learners.*"
   ]
  }
 ],
 "metadata": {
  "kernelspec": {
   "display_name": "Python 3",
   "language": "python",
   "name": "python3"
  },
  "language_info": {
   "codemirror_mode": {
    "name": "ipython",
    "version": 3
   },
   "file_extension": ".py",
   "mimetype": "text/x-python",
   "name": "python",
   "nbconvert_exporter": "python",
   "pygments_lexer": "ipython3",
   "version": "3.7.12"
  },
  "papermill": {
   "default_parameters": {},
   "duration": 25.598548,
   "end_time": "2022-06-14T17:54:43.785934",
   "environment_variables": {},
   "exception": null,
   "input_path": "__notebook__.ipynb",
   "output_path": "__notebook__.ipynb",
   "parameters": {},
   "start_time": "2022-06-14T17:54:18.187386",
   "version": "2.3.4"
  }
 },
 "nbformat": 4,
 "nbformat_minor": 5
}
